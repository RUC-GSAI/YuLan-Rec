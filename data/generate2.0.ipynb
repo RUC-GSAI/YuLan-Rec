{
 "cells": [
  {
   "cell_type": "code",
   "execution_count": 8,
   "metadata": {},
   "outputs": [],
   "source": [
    "import random\n",
    "\n",
    "# 定义人设选项及其概率\n",
    "characteristics = {\n",
    "    \"性别\": {\"男\": 0.5, \"女\": 0.5},\n",
    "    \"户籍\": {\"城镇\": 0.6, \"农村\": 0.4},\n",
    "    \"心态\": {\"内卷\": 0.2, \"佛系\": 0.4, \"躺平\": 0.4},\n",
    "    \"学段\": {\"重点本科院校\": 0.3, \"其他本科院校\": 0.4, \"专科院校\": 0.3},\n",
    "    \"年级\": {\"本科\": 0.6, \"硕士\": 0.25, \"博士\": 0.15},\n",
    "    \"专业类别\": {\"自然科学\": 0.5, \"人文科学\": 0.5},\n",
    "    \"自评健康\": {\"很不健康\": 0.05, \"比较不健康\": 0.15, \"一般\": 0.4, \"比较健康\": 0.25, \"很健康\": 0.15},\n",
    "    \"睡眠质量\": {\"非常好\": 0.25, \"比较好\": 0.25, \"比较差\": 0.25, \"非常差\": 0.25},\n",
    "    \"升学规划\": {\"保研\": 0.1667, \"考研\": 0.3333, \"出国留学\": 0.3333, \"考公\": 0.0833, \"体制外工作\": 0.1667, \"其他\": 0.0833},\n",
    "    \"父亲受教育程度\": {\"小学及以下\": 0.15, \"初中\": 0.2, \"高中\": 0.3, \"大学及以上\": 0.35},\n",
    "    \"母亲受教育程度\": {\"小学及以下\": 0.15, \"初中\": 0.2, \"高中\": 0.3, \"大学及以上\": 0.35},\n",
    "    \"感情状况\": {\"单身\": 0.6, \"恋爱\": 0.4}\n",
    "}\n",
    "name = '张吉惟、林国瑞、林玟书、林雅南、江奕云、刘柏宏、阮建安、林子帆、夏志豪、吉 茹定、李中冰、黄文隆、谢彦文、傅智翔、洪振霞、刘姿婷、荣姿康、吕致盈、方一强、 黎芸贵、郑伊雯、雷进宝、吴美隆、吴心真、王美珠、郭芳天、李雅惠、陈文婷、曹敏侑、 王依婷、陈婉璇、吴美玉、蔡依婷、郑昌梦、林家纶、黄丽昆、李育泉、黄芸欢、吴韵如、 李肇芬、卢木仲、李成白、方兆玉、刘翊惠、丁汉臻、吴佳瑞、舒绿珮、周白芷、张姿妤、 张虹伦、周琼玟、倪怡芳、郭贵妃、杨佩芳、黄文旺、黄盛玫、郑丽青、许智云、张孟涵、 李小爱、王恩龙、朱政廷、邓诗涵、陈政倩、吴俊伯、阮馨学、翁惠珠、吴思翰、林佩玲、 邓海来、陈翊依、李建智、武淑芬、金雅琪、赖怡宜、黄育霖、张仪湖、王俊民、张诗刚、 林慧颖、沈俊君、陈淑妤、李姿伶、高咏钰、黄彦宜、周孟儒、潘欣臻、李祯韵、叶洁启、 梁哲宇、黄晓萍、杨雅萍、卢志铭、张茂以、林婉婷、蔡宜芸、林珮瑜、黄柏仪、周逸珮、 夏雅惠、王采珮、林孟霖、林竹水、王怡乐、王爱乐、金佳蓉、韩健毓、李士杰、陈萱珍、 苏姿婷、张政霖、李志宏、陈素达、陈虹荣、何美玲、李仪琳、张俞幸、黄秋萍、潘吉维、 陈智筠、蔡书玮、陈信峰、林培伦、查瑜舜、黎慧萱、郑士易、陈建豪、吴怡婷、徐紫富、 张博海、黎宏儒、柯乔喜、胡睿纯、王淑月、陈百菁、王雅娥、黄佩珊、李必辰、吴耀华、 彭郁婷、王秀玲、谢佳儒、罗静蓁、杨舒南、蔡政琳、杨绍瑜、金育木、杨韦成、韩宁政、 蒋廷湖、毛展霞、廖婉宏、黄怡强、郭冰宇、黄伟依、叶元映、林智超、李姿婷、李莉火、 邱雅雯、王淑芳、陈枝盈、高成彦、徐采伶、杨大雪、林彦韦、李升毓、邱宜瑶、陈政文、 李宜豪、陈宜宁、陈志宏、阮柔治、林乐妹、简健昀、廖雅君、梁佩芬、苏玮伦、秦娇真、 谢佳雯、李仁杰、李佳和、郭贤青、吴怡伶、陈怡婷、阮晴桦、辛翔坤、林孟富、刘美玲、 涂昀琬、白凯修、黄蓉芳、赵吟琪、张裕忠、石春紫、方美君、潘右博、俞星如、张冠杰、 钟庭玮、叶茜彦、陈伯薇、陈昭祥、陈伟伦、黄雅慧、郭子豪、黄彦霖、宋合、许雅婷、 王圣如、何伶元、钟伦军、蔡佳蓉、溥康柔、冯成轩、陈嘉惠、吴惠劭、谢健铭、林怡婷、 廖佳蓉、李佩伯、何珮甄、谢晓玲、许彦霖、林威强、周佳勋、林静怡、周筠亚、陈仲宜、 胡东贵、陈绍翰、梁姵来、陈雅吉、张莉雯、陈韦荣、林素伦、李菁芷、蔡玉婷、郑智钧、 吴孟钰、蔡国伟、连俊达、李雅婷、李礼娇、李忆孝、黄静雯、陈淳宝、李文育、林佳蓉、 罗依茂、李淑佩、谢怡君、王美玲、黄慧学、邓幸韵、陈秀琬、许岳平、许爱礼、谢一忠、 简志雪、赵若喜、许承翰、姚哲维、苏俊安、郭礼钰、姜佩珊、张鸿信、秦欣瑜、李旺劭、 陈怡爱、陈秀德、张佳伶、郑凯婷、郑雅任、黄国妹、林芳江、江骏生、黄儒纯'\n",
    "name_list = name.split('、')\n"
   ]
  },
  {
   "cell_type": "code",
   "execution_count": 14,
   "metadata": {},
   "outputs": [],
   "source": [
    "def pop_random_element(lst):\n",
    "    \"\"\"\n",
    "    Randomly pops an element from the list and also removes it from the original list.\n",
    "    \n",
    "    Args:\n",
    "    - lst (list): The list from which to pop an element.\n",
    "    \n",
    "    Returns:\n",
    "    - The randomly popped element.\n",
    "    \"\"\"\n",
    "    if not lst:\n",
    "        return None  # Return None if the list is empty\n",
    "    \n",
    "    index = random.randint(0, len(lst) - 1)\n",
    "    return lst.pop(index)\n",
    "# 随机生成一个人设\n",
    "def generate_character():\n",
    "    character = {'姓名':pop_random_element(name_list)}\n",
    "    for key, options in characteristics.items():\n",
    "        # 使用概率来随机选择属性\n",
    "        option, weight = random.choice(list(options.items()))\n",
    "        if random.random() < weight:\n",
    "            character[key] = option\n",
    "        else:\n",
    "            # 如果没有选择当前选项，则从剩余选项中随机选择\n",
    "            remaining_options = {k: v for k, v in options.items() if k != option}\n",
    "            character[key] = random.choice(list(remaining_options.keys()))\n",
    "    return character\n"
   ]
  },
  {
   "cell_type": "code",
   "execution_count": 15,
   "metadata": {},
   "outputs": [
    {
     "data": {
      "text/plain": [
       "'朱政廷'"
      ]
     },
     "execution_count": 15,
     "metadata": {},
     "output_type": "execute_result"
    }
   ],
   "source": [
    "element = pop_random_element(name_list)\n",
    "element"
   ]
  },
  {
   "cell_type": "code",
   "execution_count": 16,
   "metadata": {},
   "outputs": [
    {
     "data": {
      "text/plain": [
       "{'姓名': '李仪琳',\n",
       " '性别': '男',\n",
       " '户籍': '城镇',\n",
       " '心态': '躺平',\n",
       " '学段': '其他本科院校',\n",
       " '年级': '本科',\n",
       " '专业类别': '自然科学',\n",
       " '自评健康': '一般',\n",
       " '睡眠质量': '比较好',\n",
       " '升学规划': '体制外工作',\n",
       " '父亲受教育程度': '小学及以下',\n",
       " '母亲受教育程度': '小学及以下',\n",
       " '感情状况': '单身'}"
      ]
     },
     "execution_count": 16,
     "metadata": {},
     "output_type": "execute_result"
    }
   ],
   "source": [
    "generate_character()"
   ]
  },
  {
   "cell_type": "code",
   "execution_count": 21,
   "metadata": {},
   "outputs": [],
   "source": [
    "def save_characters_to_txt(characters, filename=\"characters.txt\"):\n",
    "    with open(filename, \"w\", encoding=\"utf-8\") as file:\n",
    "        for character in characters:\n",
    "            line = \", \".join(str(value) for value in character.values())\n",
    "            file.write(line + \"\\n\")\n",
    "\n",
    "# 批量生成100个人设并保存到同一个txt文件\n",
    "characters = [generate_character() for _ in range(100)]\n",
    "save_characters_to_txt(characters)"
   ]
  },
  {
   "cell_type": "code",
   "execution_count": 22,
   "metadata": {},
   "outputs": [
    {
     "data": {
      "text/plain": [
       "1512"
      ]
     },
     "execution_count": 22,
     "metadata": {},
     "output_type": "execute_result"
    }
   ],
   "source": [
    "import random\n",
    "\n",
    "# 读取人物名字的函数\n",
    "def read_character_names_from_txt(filename=\"characters.txt\"):\n",
    "    names = []\n",
    "    with open(filename, \"r\", encoding=\"utf-8\") as file:\n",
    "        for line in file:\n",
    "            name = line.strip().split(\",\")[0]\n",
    "            names.append(name)\n",
    "    return names\n",
    "\n",
    "# 生成唯一关系的函数，包括概率阈值\n",
    "def generate_unique_relationships(names, relationship_types=[\"朋友\", \"认识\"], probability=0.3):\n",
    "    relationships = set()\n",
    "    num_names = len(names)\n",
    "    \n",
    "    if num_names > 1:\n",
    "        for i in range(num_names):\n",
    "            for j in range(i + 1, num_names):\n",
    "                if random.random() < probability:  # 根据概率决定是否生成关系\n",
    "                    relationship = random.choice(relationship_types)\n",
    "                    relationship_tuple = (names[i], names[j], relationship)\n",
    "                    relationships.add(relationship_tuple)\n",
    "                    \n",
    "    return list(relationships)\n",
    "\n",
    "# 保存关系的函数\n",
    "def save_unique_relationships_to_txt(relationships, filename=\"unique_relationships.txt\"):\n",
    "    with open(filename, \"w\", encoding=\"utf-8\") as file:\n",
    "        for relationship in relationships:\n",
    "            file.write(f\"{relationship[0]}, {relationship[1]}, {relationship[2]}\\n\")\n",
    "\n",
    "# 主逻辑\n",
    "character_names = read_character_names_from_txt()\n",
    "unique_relationships = generate_unique_relationships(character_names)\n",
    "save_unique_relationships_to_txt(unique_relationships)\n",
    "\n",
    "# 返回生成的关系数量\n",
    "len(unique_relationships)\n"
   ]
  },
  {
   "cell_type": "code",
   "execution_count": null,
   "metadata": {},
   "outputs": [],
   "source": []
  }
 ],
 "metadata": {
  "kernelspec": {
   "display_name": "ljb",
   "language": "python",
   "name": "ljb"
  },
  "language_info": {
   "codemirror_mode": {
    "name": "ipython",
    "version": 3
   },
   "file_extension": ".py",
   "mimetype": "text/x-python",
   "name": "python",
   "nbconvert_exporter": "python",
   "pygments_lexer": "ipython3",
   "version": "3.10.14"
  }
 },
 "nbformat": 4,
 "nbformat_minor": 2
}
